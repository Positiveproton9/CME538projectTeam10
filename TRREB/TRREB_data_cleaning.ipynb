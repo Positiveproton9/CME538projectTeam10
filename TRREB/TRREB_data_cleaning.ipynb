{
 "cells": [
  {
   "cell_type": "code",
   "execution_count": null,
   "metadata": {},
   "outputs": [
    {
     "name": "stdout",
     "output_type": "stream",
     "text": [
      "Requirement already satisfied: geopy in c:\\users\\omar\\anaconda3\\lib\\site-packages (2.4.1)\n",
      "Requirement already satisfied: geographiclib<3,>=1.52 in c:\\users\\omar\\anaconda3\\lib\\site-packages (from geopy) (2.0)\n",
      "Note: you may need to restart the kernel to use updated packages.\n"
     ]
    }
   ],
   "source": [
    "pip install geopy"
   ]
  },
  {
   "cell_type": "code",
   "execution_count": 9,
   "metadata": {},
   "outputs": [
    {
     "name": "stdout",
     "output_type": "stream",
     "text": [
      "Collecting opencage\n",
      "  Downloading opencage-3.0.3-py3-none-any.whl.metadata (7.7 kB)\n",
      "Requirement already satisfied: pandas in c:\\users\\omar\\anaconda3\\lib\\site-packages (2.2.2)\n",
      "Requirement already satisfied: Requests>=2.31.0 in c:\\users\\omar\\anaconda3\\lib\\site-packages (from opencage) (2.32.2)\n",
      "Collecting backoff>=2.2.1 (from opencage)\n",
      "  Downloading backoff-2.2.1-py3-none-any.whl.metadata (14 kB)\n",
      "Requirement already satisfied: tqdm>=4.66.4 in c:\\users\\omar\\anaconda3\\lib\\site-packages (from opencage) (4.66.4)\n",
      "Requirement already satisfied: certifi>=2024.07.04 in c:\\users\\omar\\anaconda3\\lib\\site-packages (from opencage) (2024.8.30)\n",
      "Collecting aiohttp>=3.10.5 (from opencage)\n",
      "  Downloading aiohttp-3.11.7-cp312-cp312-win_amd64.whl.metadata (8.0 kB)\n",
      "Requirement already satisfied: numpy>=1.26.0 in c:\\users\\omar\\anaconda3\\lib\\site-packages (from pandas) (1.26.4)\n",
      "Requirement already satisfied: python-dateutil>=2.8.2 in c:\\users\\omar\\anaconda3\\lib\\site-packages (from pandas) (2.9.0.post0)\n",
      "Requirement already satisfied: pytz>=2020.1 in c:\\users\\omar\\anaconda3\\lib\\site-packages (from pandas) (2024.1)\n",
      "Requirement already satisfied: tzdata>=2022.7 in c:\\users\\omar\\anaconda3\\lib\\site-packages (from pandas) (2023.3)\n",
      "Collecting aiohappyeyeballs>=2.3.0 (from aiohttp>=3.10.5->opencage)\n",
      "  Downloading aiohappyeyeballs-2.4.3-py3-none-any.whl.metadata (6.1 kB)\n",
      "Requirement already satisfied: aiosignal>=1.1.2 in c:\\users\\omar\\anaconda3\\lib\\site-packages (from aiohttp>=3.10.5->opencage) (1.2.0)\n",
      "Requirement already satisfied: attrs>=17.3.0 in c:\\users\\omar\\anaconda3\\lib\\site-packages (from aiohttp>=3.10.5->opencage) (23.1.0)\n",
      "Requirement already satisfied: frozenlist>=1.1.1 in c:\\users\\omar\\anaconda3\\lib\\site-packages (from aiohttp>=3.10.5->opencage) (1.4.0)\n",
      "Requirement already satisfied: multidict<7.0,>=4.5 in c:\\users\\omar\\anaconda3\\lib\\site-packages (from aiohttp>=3.10.5->opencage) (6.0.4)\n",
      "Collecting propcache>=0.2.0 (from aiohttp>=3.10.5->opencage)\n",
      "  Downloading propcache-0.2.0-cp312-cp312-win_amd64.whl.metadata (7.9 kB)\n",
      "Collecting yarl<2.0,>=1.17.0 (from aiohttp>=3.10.5->opencage)\n",
      "  Downloading yarl-1.18.0-cp312-cp312-win_amd64.whl.metadata (69 kB)\n",
      "     ---------------------------------------- 0.0/69.9 kB ? eta -:--:--\n",
      "     ----------------------------------- ---- 61.4/69.9 kB 1.7 MB/s eta 0:00:01\n",
      "     ---------------------------------------- 69.9/69.9 kB 1.9 MB/s eta 0:00:00\n",
      "Requirement already satisfied: six>=1.5 in c:\\users\\omar\\anaconda3\\lib\\site-packages (from python-dateutil>=2.8.2->pandas) (1.16.0)\n",
      "Requirement already satisfied: charset-normalizer<4,>=2 in c:\\users\\omar\\anaconda3\\lib\\site-packages (from Requests>=2.31.0->opencage) (2.0.4)\n",
      "Requirement already satisfied: idna<4,>=2.5 in c:\\users\\omar\\anaconda3\\lib\\site-packages (from Requests>=2.31.0->opencage) (3.7)\n",
      "Requirement already satisfied: urllib3<3,>=1.21.1 in c:\\users\\omar\\anaconda3\\lib\\site-packages (from Requests>=2.31.0->opencage) (2.2.2)\n",
      "Requirement already satisfied: colorama in c:\\users\\omar\\anaconda3\\lib\\site-packages (from tqdm>=4.66.4->opencage) (0.4.6)\n",
      "Downloading opencage-3.0.3-py3-none-any.whl (22 kB)\n",
      "Downloading aiohttp-3.11.7-cp312-cp312-win_amd64.whl (436 kB)\n",
      "   ---------------------------------------- 0.0/436.5 kB ? eta -:--:--\n",
      "   --------------------------------------  430.1/436.5 kB 13.5 MB/s eta 0:00:01\n",
      "   ---------------------------------------- 436.5/436.5 kB 9.1 MB/s eta 0:00:00\n",
      "Downloading backoff-2.2.1-py3-none-any.whl (15 kB)\n",
      "Downloading aiohappyeyeballs-2.4.3-py3-none-any.whl (14 kB)\n",
      "Downloading propcache-0.2.0-cp312-cp312-win_amd64.whl (44 kB)\n",
      "   ---------------------------------------- 0.0/44.4 kB ? eta -:--:--\n",
      "   ---------------------------------------- 44.4/44.4 kB 2.3 MB/s eta 0:00:00\n",
      "Downloading yarl-1.18.0-cp312-cp312-win_amd64.whl (90 kB)\n",
      "   ---------------------------------------- 0.0/90.1 kB ? eta -:--:--\n",
      "   ---------------------------------------- 90.1/90.1 kB ? eta 0:00:00\n",
      "Installing collected packages: propcache, backoff, aiohappyeyeballs, yarl, aiohttp, opencage\n",
      "  Attempting uninstall: yarl\n",
      "    Found existing installation: yarl 1.9.3\n",
      "    Uninstalling yarl-1.9.3:\n",
      "      Successfully uninstalled yarl-1.9.3\n",
      "  Attempting uninstall: aiohttp\n",
      "    Found existing installation: aiohttp 3.9.5\n",
      "    Uninstalling aiohttp-3.9.5:\n",
      "      Successfully uninstalled aiohttp-3.9.5\n",
      "Successfully installed aiohappyeyeballs-2.4.3 aiohttp-3.11.7 backoff-2.2.1 opencage-3.0.3 propcache-0.2.0 yarl-1.18.0\n",
      "Note: you may need to restart the kernel to use updated packages.\n"
     ]
    },
    {
     "name": "stderr",
     "output_type": "stream",
     "text": [
      "  WARNING: Failed to remove contents in a temporary directory 'C:\\Users\\OMAR\\anaconda3\\Lib\\site-packages\\~arl'.\n",
      "  You can safely remove it manually.\n",
      "  WARNING: Failed to remove contents in a temporary directory 'C:\\Users\\OMAR\\anaconda3\\Lib\\site-packages\\~iohttp'.\n",
      "  You can safely remove it manually.\n"
     ]
    }
   ],
   "source": [
    "pip install opencage pandas"
   ]
  },
  {
   "cell_type": "code",
   "execution_count": 24,
   "metadata": {},
   "outputs": [],
   "source": [
    "import pandas as pd\n",
    "import geopandas as gpd\n",
    "import matplotlib.pyplot as plt\n",
    "from opencage.geocoder import OpenCageGeocode\n",
    "import time"
   ]
  },
  {
   "cell_type": "code",
   "execution_count": 2,
   "metadata": {},
   "outputs": [],
   "source": [
    "trreb_data = pd.read_csv('TRREB_data_cleaned.csv')"
   ]
  },
  {
   "cell_type": "code",
   "execution_count": 8,
   "metadata": {},
   "outputs": [
    {
     "data": {
      "text/html": [
       "<div>\n",
       "<style scoped>\n",
       "    .dataframe tbody tr th:only-of-type {\n",
       "        vertical-align: middle;\n",
       "    }\n",
       "\n",
       "    .dataframe tbody tr th {\n",
       "        vertical-align: top;\n",
       "    }\n",
       "\n",
       "    .dataframe thead th {\n",
       "        text-align: right;\n",
       "    }\n",
       "</style>\n",
       "<table border=\"1\" class=\"dataframe\">\n",
       "  <thead>\n",
       "    <tr style=\"text-align: right;\">\n",
       "      <th></th>\n",
       "      <th>address</th>\n",
       "      <th>beds</th>\n",
       "      <th>baths</th>\n",
       "      <th>type</th>\n",
       "      <th>price</th>\n",
       "      <th>sqft</th>\n",
       "      <th>listing#</th>\n",
       "      <th>sqft_min</th>\n",
       "      <th>sqft_max</th>\n",
       "      <th>sqft_avg</th>\n",
       "      <th>Type</th>\n",
       "      <th>Style</th>\n",
       "    </tr>\n",
       "  </thead>\n",
       "  <tbody>\n",
       "    <tr>\n",
       "      <th>0</th>\n",
       "      <td>50 Orchid Place Dr Room 1 Toronto</td>\n",
       "      <td>1</td>\n",
       "      <td>1</td>\n",
       "      <td>Condo Townhouse Multi-Level</td>\n",
       "      <td>1000</td>\n",
       "      <td>1000-1199</td>\n",
       "      <td>E9416947</td>\n",
       "      <td>1000</td>\n",
       "      <td>1199</td>\n",
       "      <td>1099.5</td>\n",
       "      <td>Condo Townhouse</td>\n",
       "      <td>Multi-Level</td>\n",
       "    </tr>\n",
       "    <tr>\n",
       "      <th>1</th>\n",
       "      <td>330 Village Green Sq 8 Toronto</td>\n",
       "      <td>1</td>\n",
       "      <td>2</td>\n",
       "      <td>Condo Townhouse 3-Storey</td>\n",
       "      <td>1100</td>\n",
       "      <td>1200-1399</td>\n",
       "      <td>E9399099</td>\n",
       "      <td>1200</td>\n",
       "      <td>1399</td>\n",
       "      <td>1299.5</td>\n",
       "      <td>Condo Townhouse</td>\n",
       "      <td>3-Storey</td>\n",
       "    </tr>\n",
       "    <tr>\n",
       "      <th>2</th>\n",
       "      <td>3 Falaise Rd A2 Toronto</td>\n",
       "      <td>1</td>\n",
       "      <td>1</td>\n",
       "      <td>Condo Townhouse Stacked Townhse</td>\n",
       "      <td>1200</td>\n",
       "      <td>1400-1599</td>\n",
       "      <td>E10431570</td>\n",
       "      <td>1400</td>\n",
       "      <td>1599</td>\n",
       "      <td>1499.5</td>\n",
       "      <td>Condo Townhouse</td>\n",
       "      <td>Stacked Townhse</td>\n",
       "    </tr>\n",
       "    <tr>\n",
       "      <th>3</th>\n",
       "      <td>10 Eddystone Ave 241 Toronto</td>\n",
       "      <td>1</td>\n",
       "      <td>2</td>\n",
       "      <td>Condo Apt 2-Storey</td>\n",
       "      <td>1200</td>\n",
       "      <td>1200-1399</td>\n",
       "      <td>W10407655</td>\n",
       "      <td>1200</td>\n",
       "      <td>1399</td>\n",
       "      <td>1299.5</td>\n",
       "      <td>Condo Apartment</td>\n",
       "      <td>2-Storey</td>\n",
       "    </tr>\n",
       "    <tr>\n",
       "      <th>4</th>\n",
       "      <td>872 Browns Line 2 Toronto</td>\n",
       "      <td>1</td>\n",
       "      <td>1</td>\n",
       "      <td>Condo Apt Multi-Level</td>\n",
       "      <td>1250</td>\n",
       "      <td>1000-1199</td>\n",
       "      <td>W10423767</td>\n",
       "      <td>1000</td>\n",
       "      <td>1199</td>\n",
       "      <td>1099.5</td>\n",
       "      <td>Condo Apartment</td>\n",
       "      <td>Multi-Level</td>\n",
       "    </tr>\n",
       "  </tbody>\n",
       "</table>\n",
       "</div>"
      ],
      "text/plain": [
       "                             address beds  baths  \\\n",
       "0  50 Orchid Place Dr Room 1 Toronto    1      1   \n",
       "1     330 Village Green Sq 8 Toronto    1      2   \n",
       "2            3 Falaise Rd A2 Toronto    1      1   \n",
       "3       10 Eddystone Ave 241 Toronto    1      2   \n",
       "4          872 Browns Line 2 Toronto    1      1   \n",
       "\n",
       "                              type  price       sqft   listing#  sqft_min  \\\n",
       "0      Condo Townhouse Multi-Level   1000  1000-1199   E9416947      1000   \n",
       "1         Condo Townhouse 3-Storey   1100  1200-1399   E9399099      1200   \n",
       "2  Condo Townhouse Stacked Townhse   1200  1400-1599  E10431570      1400   \n",
       "3               Condo Apt 2-Storey   1200  1200-1399  W10407655      1200   \n",
       "4            Condo Apt Multi-Level   1250  1000-1199  W10423767      1000   \n",
       "\n",
       "   sqft_max  sqft_avg             Type            Style  \n",
       "0      1199    1099.5  Condo Townhouse      Multi-Level  \n",
       "1      1399    1299.5  Condo Townhouse         3-Storey  \n",
       "2      1599    1499.5  Condo Townhouse  Stacked Townhse  \n",
       "3      1399    1299.5  Condo Apartment         2-Storey  \n",
       "4      1199    1099.5  Condo Apartment      Multi-Level  "
      ]
     },
     "execution_count": 8,
     "metadata": {},
     "output_type": "execute_result"
    }
   ],
   "source": [
    "trreb_data.head()"
   ]
  },
  {
   "cell_type": "code",
   "execution_count": null,
   "metadata": {},
   "outputs": [
    {
     "data": {
      "text/plain": [
       "(3356, 12)"
      ]
     },
     "execution_count": 12,
     "metadata": {},
     "output_type": "execute_result"
    }
   ],
   "source": [
    "trreb_data.shape"
   ]
  },
  {
   "cell_type": "code",
   "execution_count": 13,
   "metadata": {},
   "outputs": [
    {
     "name": "stdout",
     "output_type": "stream",
     "text": [
      "Saved chunk_1.csv with 2500 rows.\n",
      "Saved chunk_2.csv with 856 rows.\n"
     ]
    }
   ],
   "source": [
    "# Split dataset into chunks of 2500 rows\n",
    "chunk_size = 2500\n",
    "chunks = [trreb_data.iloc[i:i+chunk_size] for i in range(0, len(trreb_data), chunk_size)]\n",
    "\n",
    "# Save each chunk to a separate file\n",
    "for i, chunk in enumerate(chunks):\n",
    "    chunk.to_csv(f\"chunk_{i+1}.csv\", index=False)\n",
    "    print(f\"Saved chunk_{i+1}.csv with {len(chunk)} rows.\")"
   ]
  },
  {
   "cell_type": "code",
   "execution_count": 19,
   "metadata": {},
   "outputs": [
    {
     "name": "stdout",
     "output_type": "stream",
     "text": [
      "Geocoding complete for chunk 1. Saved to 'geocoded_chunk_1.csv'.\n"
     ]
    }
   ],
   "source": [
    "# Your OpenCage API key\n",
    "API_KEY = \"4dcebf05754f49aca3cfc2ea8be615ef\"\n",
    "geocoder = OpenCageGeocode(API_KEY)\n",
    "\n",
    "# Load a chunk to geocode (replace 'chunk_1.csv' with the actual file name)\n",
    "data_chunk = pd.read_csv(\"chunk_1.csv\")\n",
    "\n",
    "# Function to get latitude and longitude\n",
    "def get_lat_lon(address, retries=3):\n",
    "    for attempt in range(retries):\n",
    "        try:\n",
    "            results = geocoder.geocode(address)\n",
    "            if results:\n",
    "                location = results[0]['geometry']\n",
    "                return location['lat'], location['lng']\n",
    "            else:\n",
    "                return None, None\n",
    "        except Exception as e:\n",
    "            if attempt < retries - 1:\n",
    "                time.sleep(1)  # Wait before retrying\n",
    "            else:\n",
    "                print(f\"Error for address '{address}': {e}\")\n",
    "                return None, None\n",
    "\n",
    "# Apply geocoding to the address column\n",
    "data_chunk[['Lat', 'Lon']] = data_chunk['address'].apply(lambda x: pd.Series(get_lat_lon(x)))\n",
    "\n",
    "# Save the geocoded chunk to a new CSV file\n",
    "data_chunk.to_csv(\"geocoded_chunk_1.csv\", index=False)\n",
    "print(\"Geocoding complete for chunk 1. Saved to 'geocoded_chunk_1.csv'.\")"
   ]
  },
  {
   "cell_type": "code",
   "execution_count": 20,
   "metadata": {},
   "outputs": [],
   "source": [
    "trreb_data_geocoded_1 = pd.read_csv('geocoded_chunk_1.csv')"
   ]
  },
  {
   "cell_type": "code",
   "execution_count": null,
   "metadata": {},
   "outputs": [
    {
     "data": {
      "text/html": [
       "<div>\n",
       "<style scoped>\n",
       "    .dataframe tbody tr th:only-of-type {\n",
       "        vertical-align: middle;\n",
       "    }\n",
       "\n",
       "    .dataframe tbody tr th {\n",
       "        vertical-align: top;\n",
       "    }\n",
       "\n",
       "    .dataframe thead th {\n",
       "        text-align: right;\n",
       "    }\n",
       "</style>\n",
       "<table border=\"1\" class=\"dataframe\">\n",
       "  <thead>\n",
       "    <tr style=\"text-align: right;\">\n",
       "      <th></th>\n",
       "      <th>address</th>\n",
       "      <th>beds</th>\n",
       "      <th>baths</th>\n",
       "      <th>type</th>\n",
       "      <th>price</th>\n",
       "      <th>sqft</th>\n",
       "      <th>listing#</th>\n",
       "      <th>sqft_min</th>\n",
       "      <th>sqft_max</th>\n",
       "      <th>sqft_avg</th>\n",
       "      <th>Type</th>\n",
       "      <th>Style</th>\n",
       "      <th>Lat</th>\n",
       "      <th>Lon</th>\n",
       "    </tr>\n",
       "  </thead>\n",
       "  <tbody>\n",
       "    <tr>\n",
       "      <th>0</th>\n",
       "      <td>50 Orchid Place Dr Room 1 Toronto</td>\n",
       "      <td>1</td>\n",
       "      <td>1</td>\n",
       "      <td>Condo Townhouse Multi-Level</td>\n",
       "      <td>1000</td>\n",
       "      <td>1000-1199</td>\n",
       "      <td>E9416947</td>\n",
       "      <td>1000</td>\n",
       "      <td>1199</td>\n",
       "      <td>1099.5</td>\n",
       "      <td>Condo Townhouse</td>\n",
       "      <td>Multi-Level</td>\n",
       "      <td>43.700110</td>\n",
       "      <td>-79.416300</td>\n",
       "    </tr>\n",
       "    <tr>\n",
       "      <th>1</th>\n",
       "      <td>330 Village Green Sq 8 Toronto</td>\n",
       "      <td>1</td>\n",
       "      <td>2</td>\n",
       "      <td>Condo Townhouse 3-Storey</td>\n",
       "      <td>1100</td>\n",
       "      <td>1200-1399</td>\n",
       "      <td>E9399099</td>\n",
       "      <td>1200</td>\n",
       "      <td>1399</td>\n",
       "      <td>1299.5</td>\n",
       "      <td>Condo Townhouse</td>\n",
       "      <td>3-Storey</td>\n",
       "      <td>43.777750</td>\n",
       "      <td>-79.283306</td>\n",
       "    </tr>\n",
       "    <tr>\n",
       "      <th>2</th>\n",
       "      <td>3 Falaise Rd A2 Toronto</td>\n",
       "      <td>1</td>\n",
       "      <td>1</td>\n",
       "      <td>Condo Townhouse Stacked Townhse</td>\n",
       "      <td>1200</td>\n",
       "      <td>1400-1599</td>\n",
       "      <td>E10431570</td>\n",
       "      <td>1400</td>\n",
       "      <td>1599</td>\n",
       "      <td>1499.5</td>\n",
       "      <td>Condo Townhouse</td>\n",
       "      <td>Stacked Townhse</td>\n",
       "      <td>43.772663</td>\n",
       "      <td>-79.190300</td>\n",
       "    </tr>\n",
       "    <tr>\n",
       "      <th>3</th>\n",
       "      <td>10 Eddystone Ave 241 Toronto</td>\n",
       "      <td>1</td>\n",
       "      <td>2</td>\n",
       "      <td>Condo Apt 2-Storey</td>\n",
       "      <td>1200</td>\n",
       "      <td>1200-1399</td>\n",
       "      <td>W10407655</td>\n",
       "      <td>1200</td>\n",
       "      <td>1399</td>\n",
       "      <td>1299.5</td>\n",
       "      <td>Condo Apartment</td>\n",
       "      <td>2-Storey</td>\n",
       "      <td>43.749223</td>\n",
       "      <td>-79.515943</td>\n",
       "    </tr>\n",
       "    <tr>\n",
       "      <th>4</th>\n",
       "      <td>872 Browns Line 2 Toronto</td>\n",
       "      <td>1</td>\n",
       "      <td>1</td>\n",
       "      <td>Condo Apt Multi-Level</td>\n",
       "      <td>1250</td>\n",
       "      <td>1000-1199</td>\n",
       "      <td>W10423767</td>\n",
       "      <td>1000</td>\n",
       "      <td>1199</td>\n",
       "      <td>1099.5</td>\n",
       "      <td>Condo Apartment</td>\n",
       "      <td>Multi-Level</td>\n",
       "      <td>43.592712</td>\n",
       "      <td>-79.542497</td>\n",
       "    </tr>\n",
       "  </tbody>\n",
       "</table>\n",
       "</div>"
      ],
      "text/plain": [
       "                             address beds  baths  \\\n",
       "0  50 Orchid Place Dr Room 1 Toronto    1      1   \n",
       "1     330 Village Green Sq 8 Toronto    1      2   \n",
       "2            3 Falaise Rd A2 Toronto    1      1   \n",
       "3       10 Eddystone Ave 241 Toronto    1      2   \n",
       "4          872 Browns Line 2 Toronto    1      1   \n",
       "\n",
       "                              type  price       sqft   listing#  sqft_min  \\\n",
       "0      Condo Townhouse Multi-Level   1000  1000-1199   E9416947      1000   \n",
       "1         Condo Townhouse 3-Storey   1100  1200-1399   E9399099      1200   \n",
       "2  Condo Townhouse Stacked Townhse   1200  1400-1599  E10431570      1400   \n",
       "3               Condo Apt 2-Storey   1200  1200-1399  W10407655      1200   \n",
       "4            Condo Apt Multi-Level   1250  1000-1199  W10423767      1000   \n",
       "\n",
       "   sqft_max  sqft_avg             Type            Style        Lat        Lon  \n",
       "0      1199    1099.5  Condo Townhouse      Multi-Level  43.700110 -79.416300  \n",
       "1      1399    1299.5  Condo Townhouse         3-Storey  43.777750 -79.283306  \n",
       "2      1599    1499.5  Condo Townhouse  Stacked Townhse  43.772663 -79.190300  \n",
       "3      1399    1299.5  Condo Apartment         2-Storey  43.749223 -79.515943  \n",
       "4      1199    1099.5  Condo Apartment      Multi-Level  43.592712 -79.542497  "
      ]
     },
     "execution_count": 21,
     "metadata": {},
     "output_type": "execute_result"
    }
   ],
   "source": [
    "trreb_data_geocoded_1.head()"
   ]
  },
  {
   "cell_type": "code",
   "execution_count": 30,
   "metadata": {},
   "outputs": [
    {
     "data": {
      "image/png": "[encoded data removed]",
      "text/plain": [
       "<Figure size 1000x1000 with 1 Axes>"
      ]
     },
     "metadata": {},
     "output_type": "display_data"
    }
   ],
   "source": [
    "# Load the shapefile (use the path to the .shp file)\n",
    "#neighbourhoods = gpd.read_file('Neighbourhoods - 4326.shp')\n",
    "\n",
    "# Plot neighborhoods\n",
    "fig, ax = plt.subplots(figsize=(10, 10))\n",
    "#neighbourhoods.plot(ax=ax, color='lightblue', edgecolor='white')\n",
    "\n",
    "# Plot listings' locations\n",
    "plt.scatter(trreb_data_geocoded_1['Lon'],trreb_data_geocoded_1['Lat'], color='red', s=10, label=\"Listing Location\")\n",
    "\n",
    "# Add labels and legend\n",
    "plt.xlabel(\"Longitude\")\n",
    "plt.ylabel(\"Latitude\")\n",
    "plt.legend()\n",
    "plt.title(\"Listings Locations on Toronto Neighborhoods\")\n",
    "\n",
    "plt.show()"
   ]
  },
  {
   "cell_type": "code",
   "execution_count": null,
   "metadata": {},
   "outputs": [],
   "source": [
    "# # Combine all geocoded chunks\n",
    "# import glob\n",
    "\n",
    "# # Get a list of all geocoded chunk files\n",
    "# chunk_files = glob.glob(\"geocoded_chunk_*.csv\")\n",
    "\n",
    "# # Combine them into a single DataFrame\n",
    "# combined_data = pd.concat([pd.read_csv(chunk) for chunk in chunk_files], ignore_index=True)\n",
    "\n",
    "# # Save the final combined dataset\n",
    "# combined_data.to_csv(\"final_geocoded_data.csv\", index=False)\n",
    "# print(\"All chunks combined and saved to 'final_geocoded_data.csv'.\")"
   ]
  }
 ],
 "metadata": {
  "kernelspec": {
   "display_name": "base",
   "language": "python",
   "name": "python3"
  },
  "language_info": {
   "codemirror_mode": {
    "name": "ipython",
    "version": 3
   },
   "file_extension": ".py",
   "mimetype": "text/x-python",
   "name": "python",
   "nbconvert_exporter": "python",
   "pygments_lexer": "ipython3",
   "version": "3.12.4"
  }
 },
 "nbformat": 4,
 "nbformat_minor": 2
}
